{
 "cells": [
  {
   "cell_type": "code",
   "execution_count": 4,
   "metadata": {},
   "outputs": [],
   "source": [
    "import mysql.connector as connection"
   ]
  },
  {
   "cell_type": "code",
   "execution_count": 5,
   "metadata": {},
   "outputs": [],
   "source": [
    "mydb = connection.connect(host='localhost',user='root',passwd='ishu1sonu')"
   ]
  },
  {
   "cell_type": "code",
   "execution_count": 6,
   "metadata": {},
   "outputs": [],
   "source": [
    "cursor = mydb.cursor()\n",
    "query = \"CREATE DATABASE EmployeeSalary\"\n",
    "cursor.execute(query)\n",
    "mydb.commit()"
   ]
  },
  {
   "cell_type": "code",
   "execution_count": 6,
   "metadata": {},
   "outputs": [
    {
     "name": "stdout",
     "output_type": "stream",
     "text": [
      "[]\n",
      "Salary table created\n"
     ]
    }
   ],
   "source": [
    "mydb = connection.connect(host='localhost',database='EmployeeSalary',user='root',passwd='ishu1sonu')\n",
    "cursor = mydb.cursor()\n",
    "query = \"CREATE TABLE Salary(YearsExperience float(10,2),Salary float(10,2))\"\n",
    "cursor.execute(query)\n",
    "table = cursor.fetchall()\n",
    "print (table)\n",
    "print (\"Salary table created\")"
   ]
  },
  {
   "cell_type": "code",
   "execution_count": 7,
   "metadata": {},
   "outputs": [
    {
     "name": "stdout",
     "output_type": "stream",
     "text": [
      "(0, ['1.1', '39343.00'])\n",
      "(1, ['1.3', '46205.00'])\n",
      "(2, ['1.5', '37731.00'])\n",
      "(3, ['2.0', '43525.00'])\n",
      "All data inserted\n"
     ]
    }
   ],
   "source": [
    "import csv\n",
    "with open(r\"salaryData.csv\",'r') as data:\n",
    "    lines = csv.reader(data)\n",
    "    next(lines)\n",
    "    for line in enumerate(lines):\n",
    "        print (line) \n",
    "        cursor.execute(\"INSERT INTO Salary(YearsExperience,Salary) VALUES(%s,%s)\",line[1])\n",
    "    print (\"All data inserted\")"
   ]
  },
  {
   "cell_type": "code",
   "execution_count": 8,
   "metadata": {},
   "outputs": [],
   "source": [
    "mydb.commit()"
   ]
  },
  {
   "cell_type": "code",
   "execution_count": 45,
   "metadata": {},
   "outputs": [
    {
     "name": "stdout",
     "output_type": "stream",
     "text": [
      "(1.1, 39343.0)\n",
      "(1.3, 46205.0)\n",
      "(1.5, 37731.0)\n",
      "(2.0, 43525.0)\n"
     ]
    }
   ],
   "source": [
    "cursor.execute(\"SELECT * FROM Salary\")\n",
    "for values in cursor.fetchall():\n",
    "    print (values)"
   ]
  },
  {
   "cell_type": "code",
   "execution_count": 12,
   "metadata": {},
   "outputs": [
    {
     "name": "stdout",
     "output_type": "stream",
     "text": [
      "Alter Table done\n",
      "(1.1, 39343.0, 1)\n",
      "(1.3, 46205.0, 2)\n",
      "(1.5, 37731.0, 3)\n",
      "(2.0, 43525.0, 4)\n"
     ]
    }
   ],
   "source": [
    "cursor.execute(\"ALTER TABLE Salary ADD ID INT NOT NULL AUTO_INCREMENT PRIMARY KEY\")\n",
    "print (\"Alter Table done\")\n",
    "cursor.execute(\"SELECT * FROM Salary\")\n",
    "for values in cursor.fetchall():\n",
    "    print (values)"
   ]
  },
  {
   "cell_type": "code",
   "execution_count": 2,
   "metadata": {},
   "outputs": [
    {
     "name": "stdout",
     "output_type": "stream",
     "text": [
      "4\n"
     ]
    }
   ],
   "source": [
    "mydb = connection.connect(host='localhost',database='EmployeeSalary',user='root',passwd='ishu1sonu')\n",
    "cursor = mydb.cursor(buffered=True)\n",
    "cursor.execute(\"SELECT COUNT(*) FROM Salary\")\n",
    "value = cursor.fetchone()[0]\n",
    "print (value)"
   ]
  },
  {
   "cell_type": "code",
   "execution_count": 13,
   "metadata": {},
   "outputs": [
    {
     "name": "stdout",
     "output_type": "stream",
     "text": [
      "Alter Table done\n",
      "(1.1, 39343.0, 1, None)\n",
      "(1.3, 46205.0, 2, None)\n",
      "(1.5, 37731.0, 3, None)\n",
      "(2.0, 43525.0, 4, None)\n"
     ]
    }
   ],
   "source": [
    "cursor.execute(\"ALTER TABLE Salary ADD Company VARCHAR(10)\")\n",
    "print (\"Alter Table done\")\n",
    "cursor.execute(\"SELECT * FROM Salary\")\n",
    "for values in cursor.fetchall():\n",
    "    print (values)"
   ]
  },
  {
   "cell_type": "code",
   "execution_count": 15,
   "metadata": {},
   "outputs": [
    {
     "name": "stdout",
     "output_type": "stream",
     "text": [
      "Updated company value\n",
      "(1.1, 39343.0, 1, 'ABC')\n",
      "(1.3, 46205.0, 2, 'ABC')\n",
      "(1.5, 37731.0, 3, 'ABC')\n",
      "(2.0, 43525.0, 4, 'ABC')\n"
     ]
    }
   ],
   "source": [
    "cursor.execute(\"UPDATE Salary SET Company = 'ABC'\")\n",
    "print (\"Updated company value\")\n",
    "cursor.execute(\"SELECT * FROM Salary\")\n",
    "for values in cursor.fetchall():\n",
    "    print (values)      "
   ]
  },
  {
   "cell_type": "code",
   "execution_count": 16,
   "metadata": {},
   "outputs": [
    {
     "name": "stdout",
     "output_type": "stream",
     "text": [
      "(1.3, 46205.0, 2, 'ABC')\n",
      "(2.0, 43525.0, 4, 'ABC')\n"
     ]
    }
   ],
   "source": [
    "cursor.execute(\"SELECT * FROM Salary where Salary > 40000\")\n",
    "for values in cursor.fetchall():\n",
    "    print (values) "
   ]
  },
  {
   "cell_type": "code",
   "execution_count": 18,
   "metadata": {},
   "outputs": [
    {
     "name": "stdout",
     "output_type": "stream",
     "text": [
      "(1.5, 37731.0, 3, 'ABC')\n",
      "(1.1, 39343.0, 1, 'ABC')\n",
      "(2.0, 43525.0, 4, 'ABC')\n",
      "(1.3, 46205.0, 2, 'ABC')\n"
     ]
    }
   ],
   "source": [
    "cursor.execute(\"SELECT * FROM Salary ORDER BY Salary\")\n",
    "for values in cursor.fetchall():\n",
    "    print (values) "
   ]
  },
  {
   "cell_type": "code",
   "execution_count": 19,
   "metadata": {},
   "outputs": [
    {
     "name": "stdout",
     "output_type": "stream",
     "text": [
      "(1.3, 46205.0, 2, 'ABC')\n",
      "(2.0, 43525.0, 4, 'ABC')\n",
      "(1.1, 39343.0, 1, 'ABC')\n",
      "(1.5, 37731.0, 3, 'ABC')\n"
     ]
    }
   ],
   "source": [
    "cursor.execute(\"SELECT * FROM Salary ORDER BY Salary DESC\")\n",
    "for values in cursor.fetchall():\n",
    "    print (values) "
   ]
  },
  {
   "cell_type": "code",
   "execution_count": 27,
   "metadata": {},
   "outputs": [
    {
     "name": "stdout",
     "output_type": "stream",
     "text": [
      "(1.1, 39343.0, 1, 'ABC')\n",
      "(1.3, 46205.0, 2, 'ABC')\n",
      "(1.5, 37731.0, 3, 'ABC')\n",
      "(2.0, 43525.0, 4, 'ABC')\n",
      "(2.3, 50000.0, 100, 'ABC')\n"
     ]
    }
   ],
   "source": [
    "cursor.execute(\"ALTER TABLE Salary auto_increment=100\")\n",
    "cursor.execute(\"INSERT INTO Salary (YearsExperience,Salary,Company) values(2.3,50000,'ABC')\")\n",
    "cursor.execute(\"SELECT * FROM Salary\")\n",
    "for values in cursor.fetchall():\n",
    "    print (values) "
   ]
  },
  {
   "cell_type": "code",
   "execution_count": 30,
   "metadata": {},
   "outputs": [
    {
     "name": "stdout",
     "output_type": "stream",
     "text": [
      "(216804.0, 1.64, 37731.0, 50000.0)\n"
     ]
    }
   ],
   "source": [
    "cursor.execute(\"SELECT SUM(Salary),AVG(YearsExperience),MIN(Salary),MAX(Salary) FROM Salary\")\n",
    "for values in cursor.fetchall():\n",
    "    print (values) "
   ]
  },
  {
   "cell_type": "code",
   "execution_count": 57,
   "metadata": {},
   "outputs": [
    {
     "name": "stdout",
     "output_type": "stream",
     "text": [
      "['ABU']\n",
      "['BBU']\n",
      "['CBU']\n",
      "['ABU']\n",
      "['BBU']\n",
      "(1.1, 39343.0, 1, 'ABC', None)\n",
      "(1.3, 46205.0, 2, 'ABC', None)\n",
      "(1.5, 37731.0, 3, 'ABC', None)\n",
      "(2.0, 43525.0, 4, 'ABC', None)\n",
      "(2.3, 50000.0, 100, 'ABC', None)\n",
      "(None, None, 101, None, 'ABU')\n",
      "(None, None, 102, None, 'BBU')\n",
      "(None, None, 103, None, 'CBU')\n",
      "(None, None, 104, None, 'ABU')\n",
      "(None, None, 105, None, 'BBU')\n"
     ]
    }
   ],
   "source": [
    "import csv\n",
    "with open (\"DeptData.csv\",'r') as dept:\n",
    "    data = csv.reader(dept)\n",
    "    next(data)\n",
    "    #cursor.execute(\"ALTER TABLE Salary ADD Dept VARCHAR(10)\")\n",
    "    for i in data:\n",
    "        print (i)\n",
    "        cursor.execute(\"INSERT INTO Salary(Dept) values(%s)\",i)   \n",
    "cursor.execute(\"SELECT * FROM Salary\")\n",
    "for values in cursor.fetchall():\n",
    "    print (values) "
   ]
  },
  {
   "cell_type": "code",
   "execution_count": 59,
   "metadata": {},
   "outputs": [
    {
     "name": "stdout",
     "output_type": "stream",
     "text": [
      "(1.1, 39343.0, 1, 'ABC', None)\n",
      "(1.3, 46205.0, 2, 'ABC', None)\n",
      "(1.5, 37731.0, 3, 'ABC', None)\n",
      "(2.0, 43525.0, 4, 'ABC', None)\n",
      "(2.3, 50000.0, 100, 'ABC', None)\n"
     ]
    }
   ],
   "source": [
    "cursor.execute(\"DELETE from Salary where ID >= 101\")   \n",
    "cursor.execute(\"SELECT * FROM Salary\")\n",
    "for values in cursor.fetchall():\n",
    "    print (values) "
   ]
  },
  {
   "cell_type": "code",
   "execution_count": 93,
   "metadata": {},
   "outputs": [
    {
     "name": "stdout",
     "output_type": "stream",
     "text": [
      "1 ABU\n"
     ]
    },
    {
     "ename": "ProgrammingError",
     "evalue": "1054 (42S22): Unknown column 'ABU' in 'field list'",
     "output_type": "error",
     "traceback": [
      "\u001b[1;31m---------------------------------------------------------------------------\u001b[0m",
      "\u001b[1;31mProgrammingError\u001b[0m                          Traceback (most recent call last)",
      "\u001b[1;32m<ipython-input-93-34684ea185d0>\u001b[0m in \u001b[0;36m<module>\u001b[1;34m\u001b[0m\n\u001b[0;32m      7\u001b[0m         \u001b[1;31m#cursor.execute(\"UPDATE Salary SET Dept =%s where ID = %d\",i[1],i[0])\u001b[0m\u001b[1;33m\u001b[0m\u001b[1;33m\u001b[0m\u001b[1;33m\u001b[0m\u001b[0m\n\u001b[0;32m      8\u001b[0m         \u001b[1;31m#cursor.execute(\"UPDATE Salary SET Dept ={deptval} where ID = {idval}\".format(deptval=i[1],idval=i[0]))\u001b[0m\u001b[1;33m\u001b[0m\u001b[1;33m\u001b[0m\u001b[1;33m\u001b[0m\u001b[0m\n\u001b[1;32m----> 9\u001b[1;33m         \u001b[0mcursor\u001b[0m\u001b[1;33m.\u001b[0m\u001b[0mexecute\u001b[0m\u001b[1;33m(\u001b[0m\u001b[1;34m\"UPDATE Salary SET Dept ={} where ID = {}\"\u001b[0m\u001b[1;33m.\u001b[0m\u001b[0mformat\u001b[0m\u001b[1;33m(\u001b[0m\u001b[0mi\u001b[0m\u001b[1;33m[\u001b[0m\u001b[1;36m1\u001b[0m\u001b[1;33m]\u001b[0m\u001b[1;33m,\u001b[0m\u001b[0mi\u001b[0m\u001b[1;33m[\u001b[0m\u001b[1;36m0\u001b[0m\u001b[1;33m]\u001b[0m\u001b[1;33m)\u001b[0m\u001b[1;33m)\u001b[0m\u001b[1;33m\u001b[0m\u001b[1;33m\u001b[0m\u001b[0m\n\u001b[0m\u001b[0;32m     10\u001b[0m \u001b[0mmydb\u001b[0m\u001b[1;33m.\u001b[0m\u001b[0mcommit\u001b[0m\u001b[1;33m(\u001b[0m\u001b[1;33m)\u001b[0m\u001b[1;33m\u001b[0m\u001b[1;33m\u001b[0m\u001b[0m\n\u001b[0;32m     11\u001b[0m \u001b[0mcursor\u001b[0m \u001b[1;33m=\u001b[0m \u001b[0mmydb\u001b[0m\u001b[1;33m.\u001b[0m\u001b[0mcursor\u001b[0m\u001b[1;33m(\u001b[0m\u001b[1;33m)\u001b[0m\u001b[1;33m\u001b[0m\u001b[1;33m\u001b[0m\u001b[0m\n",
      "\u001b[1;32m~\\anaconda3\\lib\\site-packages\\mysql\\connector\\cursor.py\u001b[0m in \u001b[0;36mexecute\u001b[1;34m(self, operation, params, multi)\u001b[0m\n\u001b[0;32m    566\u001b[0m \u001b[1;33m\u001b[0m\u001b[0m\n\u001b[0;32m    567\u001b[0m         \u001b[1;32mtry\u001b[0m\u001b[1;33m:\u001b[0m\u001b[1;33m\u001b[0m\u001b[1;33m\u001b[0m\u001b[0m\n\u001b[1;32m--> 568\u001b[1;33m             \u001b[0mself\u001b[0m\u001b[1;33m.\u001b[0m\u001b[0m_handle_result\u001b[0m\u001b[1;33m(\u001b[0m\u001b[0mself\u001b[0m\u001b[1;33m.\u001b[0m\u001b[0m_connection\u001b[0m\u001b[1;33m.\u001b[0m\u001b[0mcmd_query\u001b[0m\u001b[1;33m(\u001b[0m\u001b[0mstmt\u001b[0m\u001b[1;33m)\u001b[0m\u001b[1;33m)\u001b[0m\u001b[1;33m\u001b[0m\u001b[1;33m\u001b[0m\u001b[0m\n\u001b[0m\u001b[0;32m    569\u001b[0m         \u001b[1;32mexcept\u001b[0m \u001b[0merrors\u001b[0m\u001b[1;33m.\u001b[0m\u001b[0mInterfaceError\u001b[0m\u001b[1;33m:\u001b[0m\u001b[1;33m\u001b[0m\u001b[1;33m\u001b[0m\u001b[0m\n\u001b[0;32m    570\u001b[0m             \u001b[1;32mif\u001b[0m \u001b[0mself\u001b[0m\u001b[1;33m.\u001b[0m\u001b[0m_connection\u001b[0m\u001b[1;33m.\u001b[0m\u001b[0m_have_next_result\u001b[0m\u001b[1;33m:\u001b[0m  \u001b[1;31m# pylint: disable=W0212\u001b[0m\u001b[1;33m\u001b[0m\u001b[1;33m\u001b[0m\u001b[0m\n",
      "\u001b[1;32m~\\anaconda3\\lib\\site-packages\\mysql\\connector\\connection.py\u001b[0m in \u001b[0;36mcmd_query\u001b[1;34m(self, query, raw, buffered, raw_as_string)\u001b[0m\n\u001b[0;32m    684\u001b[0m             \u001b[0mquery\u001b[0m \u001b[1;33m=\u001b[0m \u001b[0mquery\u001b[0m\u001b[1;33m.\u001b[0m\u001b[0mencode\u001b[0m\u001b[1;33m(\u001b[0m\u001b[1;34m'utf-8'\u001b[0m\u001b[1;33m)\u001b[0m\u001b[1;33m\u001b[0m\u001b[1;33m\u001b[0m\u001b[0m\n\u001b[0;32m    685\u001b[0m         \u001b[1;32mtry\u001b[0m\u001b[1;33m:\u001b[0m\u001b[1;33m\u001b[0m\u001b[1;33m\u001b[0m\u001b[0m\n\u001b[1;32m--> 686\u001b[1;33m             \u001b[0mresult\u001b[0m \u001b[1;33m=\u001b[0m \u001b[0mself\u001b[0m\u001b[1;33m.\u001b[0m\u001b[0m_handle_result\u001b[0m\u001b[1;33m(\u001b[0m\u001b[0mself\u001b[0m\u001b[1;33m.\u001b[0m\u001b[0m_send_cmd\u001b[0m\u001b[1;33m(\u001b[0m\u001b[0mServerCmd\u001b[0m\u001b[1;33m.\u001b[0m\u001b[0mQUERY\u001b[0m\u001b[1;33m,\u001b[0m \u001b[0mquery\u001b[0m\u001b[1;33m)\u001b[0m\u001b[1;33m)\u001b[0m\u001b[1;33m\u001b[0m\u001b[1;33m\u001b[0m\u001b[0m\n\u001b[0m\u001b[0;32m    687\u001b[0m         \u001b[1;32mexcept\u001b[0m \u001b[0merrors\u001b[0m\u001b[1;33m.\u001b[0m\u001b[0mProgrammingError\u001b[0m \u001b[1;32mas\u001b[0m \u001b[0merr\u001b[0m\u001b[1;33m:\u001b[0m\u001b[1;33m\u001b[0m\u001b[1;33m\u001b[0m\u001b[0m\n\u001b[0;32m    688\u001b[0m             \u001b[1;32mif\u001b[0m \u001b[0merr\u001b[0m\u001b[1;33m.\u001b[0m\u001b[0merrno\u001b[0m \u001b[1;33m==\u001b[0m \u001b[1;36m3948\u001b[0m \u001b[1;32mand\u001b[0m\u001b[0;31m \u001b[0m\u001b[0;31m\\\u001b[0m\u001b[1;33m\u001b[0m\u001b[1;33m\u001b[0m\u001b[0m\n",
      "\u001b[1;32m~\\anaconda3\\lib\\site-packages\\mysql\\connector\\connection.py\u001b[0m in \u001b[0;36m_handle_result\u001b[1;34m(self, packet)\u001b[0m\n\u001b[0;32m    571\u001b[0m             \u001b[1;32mreturn\u001b[0m \u001b[0mself\u001b[0m\u001b[1;33m.\u001b[0m\u001b[0m_handle_eof\u001b[0m\u001b[1;33m(\u001b[0m\u001b[0mpacket\u001b[0m\u001b[1;33m)\u001b[0m\u001b[1;33m\u001b[0m\u001b[1;33m\u001b[0m\u001b[0m\n\u001b[0;32m    572\u001b[0m         \u001b[1;32melif\u001b[0m \u001b[0mpacket\u001b[0m\u001b[1;33m[\u001b[0m\u001b[1;36m4\u001b[0m\u001b[1;33m]\u001b[0m \u001b[1;33m==\u001b[0m \u001b[1;36m255\u001b[0m\u001b[1;33m:\u001b[0m\u001b[1;33m\u001b[0m\u001b[1;33m\u001b[0m\u001b[0m\n\u001b[1;32m--> 573\u001b[1;33m             \u001b[1;32mraise\u001b[0m \u001b[0merrors\u001b[0m\u001b[1;33m.\u001b[0m\u001b[0mget_exception\u001b[0m\u001b[1;33m(\u001b[0m\u001b[0mpacket\u001b[0m\u001b[1;33m)\u001b[0m\u001b[1;33m\u001b[0m\u001b[1;33m\u001b[0m\u001b[0m\n\u001b[0m\u001b[0;32m    574\u001b[0m \u001b[1;33m\u001b[0m\u001b[0m\n\u001b[0;32m    575\u001b[0m         \u001b[1;31m# We have a text result set\u001b[0m\u001b[1;33m\u001b[0m\u001b[1;33m\u001b[0m\u001b[1;33m\u001b[0m\u001b[0m\n",
      "\u001b[1;31mProgrammingError\u001b[0m: 1054 (42S22): Unknown column 'ABU' in 'field list'"
     ]
    }
   ],
   "source": [
    "import csv\n",
    "with open ('DeptData.csv','r') as dept:\n",
    "    data = csv.reader(dept)\n",
    "    next(data)\n",
    "    for i in data:\n",
    "        print (i[0],i[1])\n",
    "        #cursor.execute(\"UPDATE Salary SET Dept =%s where ID = %d\",i[1],i[0])\n",
    "        #cursor.execute(\"UPDATE Salary SET Dept ={deptval} where ID = {idval}\".format(deptval=i[1],idval=i[0]))\n",
    "        cursor.execute(\"UPDATE Salary SET Dept ={} where ID = {}\".format(i[1],i[0]))\n",
    "mydb.commit()\n",
    "cursor = mydb.cursor()\n",
    "cursor.execute(\"SELECT * FROM Salary\")\n",
    "for values in cursor.fetchall():\n",
    "    print (values) "
   ]
  },
  {
   "cell_type": "code",
   "execution_count": null,
   "metadata": {},
   "outputs": [],
   "source": []
  }
 ],
 "metadata": {
  "kernelspec": {
   "display_name": "Python 3",
   "language": "python",
   "name": "python3"
  },
  "language_info": {
   "codemirror_mode": {
    "name": "ipython",
    "version": 3
   },
   "file_extension": ".py",
   "mimetype": "text/x-python",
   "name": "python",
   "nbconvert_exporter": "python",
   "pygments_lexer": "ipython3",
   "version": "3.7.9"
  }
 },
 "nbformat": 4,
 "nbformat_minor": 4
}
